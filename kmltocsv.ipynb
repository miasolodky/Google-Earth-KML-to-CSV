{
 "cells": [
  {
   "cell_type": "code",
   "execution_count": null,
   "metadata": {},
   "outputs": [],
   "source": [
    "from bs4 import BeautifulSoup\n",
    "import csv\n",
    "\n",
    "def process_coordinate_string(str):\n",
    "#Take the coordinate string from the KML file, and break it up into [Lat,Lon,Lat,Lon...] for a CSV row\n",
    "    ret = []\n",
    "    space_split = str.split(' ')\n",
    "    return [space_split[1], space_split[0]] #lat,long\n",
    "\n",
    "def main():\n",
    "#Open the KML. Read the KML. Open a CSV file. Process a coordinate string to be a CSV row.\n",
    "    with open('filename.kml', 'r') as f:\n",
    "        s = BeautifulSoup(f, 'xml')\n",
    "    with open('outfile.csv', 'w', newline='') as csvfile:\n",
    "        writer = csv.writer(csvfile)\n",
    "        for coords in s.find_all('coord'):\n",
    "            writer.writerow(process_coordinate_string(coords.string))\n",
    "\n",
    "main()"
   ]
  }
 ],
 "metadata": {
  "kernelspec": {
   "display_name": "Python 3",
   "language": "python",
   "name": "python3"
  },
  "language_info": {
   "codemirror_mode": {
    "name": "ipython",
    "version": 3
   },
   "file_extension": ".py",
   "mimetype": "text/x-python",
   "name": "python",
   "nbconvert_exporter": "python",
   "pygments_lexer": "ipython3",
   "version": "3.7.4"
  }
 },
 "nbformat": 4,
 "nbformat_minor": 2
}
